{
  "nbformat": 4,
  "nbformat_minor": 0,
  "metadata": {
    "colab": {
      "provenance": [],
      "authorship_tag": "ABX9TyOZRbH6y1Kp4qq08ci0j2Zt",
      "include_colab_link": true
    },
    "kernelspec": {
      "name": "python3",
      "display_name": "Python 3"
    },
    "language_info": {
      "name": "python"
    }
  },
  "cells": [
    {
      "cell_type": "markdown",
      "metadata": {
        "id": "view-in-github",
        "colab_type": "text"
      },
      "source": [
        "<a href=\"https://colab.research.google.com/github/DehitTrivedi/DataScienceBootcampFall2023/blob/main/Week3_practiceQustions.ipynb\" target=\"_parent\"><img src=\"https://colab.research.google.com/assets/colab-badge.svg\" alt=\"Open In Colab\"/></a>"
      ]
    },
    {
      "cell_type": "code",
      "execution_count": null,
      "metadata": {
        "id": "DeqgBW4U-Gbb"
      },
      "outputs": [],
      "source": []
    },
    {
      "cell_type": "markdown",
      "source": [
        "# Question 1"
      ],
      "metadata": {
        "id": "TOTLdxHR-NNp"
      }
    },
    {
      "cell_type": "code",
      "source": [
        "import numpy as np\n",
        "\n",
        "A = np.array([1, 2, 3])\n",
        "B = np.array([4, 3, 6])\n",
        "\n",
        "# Stack A and B vertically\n",
        "stacked_vertically = np.vstack((A, B))\n",
        "\n",
        "# Stack A and B horizontally\n",
        "stacked_horizontally = np.hstack((A, B))\n",
        "\n",
        "print(\"Stacked Vertically:\")\n",
        "print(stacked_vertically)\n",
        "\n",
        "print(\"Stacked Horizontally:\")\n",
        "print(stacked_horizontally)\n"
      ],
      "metadata": {
        "colab": {
          "base_uri": "https://localhost:8080/"
        },
        "id": "mnof2hey-RGF",
        "outputId": "c33f73fc-5ca2-43a6-f82a-a98e207de924"
      },
      "execution_count": 3,
      "outputs": [
        {
          "output_type": "stream",
          "name": "stdout",
          "text": [
            "Stacked Vertically:\n",
            "[[1 2 3]\n",
            " [4 3 6]]\n",
            "Stacked Horizontally:\n",
            "[1 2 3 4 3 6]\n"
          ]
        }
      ]
    },
    {
      "cell_type": "markdown",
      "source": [
        "# Question 2"
      ],
      "metadata": {
        "id": "RWBJWiHS-UsF"
      }
    },
    {
      "cell_type": "code",
      "source": [
        "common_elements = np.intersect1d(A, B)\n",
        "print(\"Common Elements:\", common_elements)"
      ],
      "metadata": {
        "colab": {
          "base_uri": "https://localhost:8080/"
        },
        "id": "jgkkVsYU-Wnp",
        "outputId": "f55c0f05-9027-429c-9041-12357b8c7436"
      },
      "execution_count": 4,
      "outputs": [
        {
          "output_type": "stream",
          "name": "stdout",
          "text": [
            "Common Elements: [3]\n"
          ]
        }
      ]
    },
    {
      "cell_type": "markdown",
      "source": [
        "# Question 3"
      ],
      "metadata": {
        "id": "9Kj2VfewAer7"
      }
    },
    {
      "cell_type": "code",
      "source": [
        "A = np.array([2, 6, 8, 12, 4, 7, 11, 5, 9])\n",
        "range_mask = (A >= 5) & (A <= 10)\n",
        "result = A[range_mask]\n",
        "print(\"Numbers within the range [5, 10]:\", result)\n"
      ],
      "metadata": {
        "colab": {
          "base_uri": "https://localhost:8080/"
        },
        "id": "QRpyVK1YAgjk",
        "outputId": "9706ef65-a945-4865-9012-29d0aaf54252"
      },
      "execution_count": 5,
      "outputs": [
        {
          "output_type": "stream",
          "name": "stdout",
          "text": [
            "Numbers within the range [5, 10]: [6 8 7 5 9]\n"
          ]
        }
      ]
    },
    {
      "cell_type": "markdown",
      "source": [
        "# Question 4"
      ],
      "metadata": {
        "id": "29vE5SFXAmf7"
      }
    },
    {
      "cell_type": "code",
      "source": [
        "import numpy as np\n",
        "\n",
        "url = 'https://archive.ics.uci.edu/ml/machine-learning-databases/iris/iris.data'\n",
        "iris_2d = np.genfromtxt(url, delimiter=',', dtype='float', usecols=[0, 1, 2, 3])\n",
        "\n",
        "filtered_rows = iris_2d[(iris_2d[:, 2] > 1.5) & (iris_2d[:, 0] < 5.0)]\n",
        "print(\"Filtered Rows:\")\n",
        "print(filtered_rows)\n"
      ],
      "metadata": {
        "colab": {
          "base_uri": "https://localhost:8080/"
        },
        "id": "xClJ8m_xAori",
        "outputId": "084eb4d1-39de-42d1-e069-ea402009d3a0"
      },
      "execution_count": 6,
      "outputs": [
        {
          "output_type": "stream",
          "name": "stdout",
          "text": [
            "Filtered Rows:\n",
            "[[4.8 3.4 1.6 0.2]\n",
            " [4.8 3.4 1.9 0.2]\n",
            " [4.7 3.2 1.6 0.2]\n",
            " [4.8 3.1 1.6 0.2]\n",
            " [4.9 2.4 3.3 1. ]\n",
            " [4.9 2.5 4.5 1.7]]\n"
          ]
        }
      ]
    },
    {
      "cell_type": "markdown",
      "source": [
        "# Question 5"
      ],
      "metadata": {
        "id": "XqCoSUbfAqPW"
      }
    },
    {
      "cell_type": "code",
      "source": [
        "import pandas as pd\n",
        "\n",
        "df = pd.read_csv('https://raw.githubusercontent.com/selva86/datasets/master/Cars93_miss.csv')\n",
        "\n",
        "filtered_data = df.loc[::20, ['Manufacturer', 'Model', 'Type']]\n",
        "print(filtered_data)\n"
      ],
      "metadata": {
        "colab": {
          "base_uri": "https://localhost:8080/"
        },
        "id": "l5RojPyKAtdS",
        "outputId": "3c656c9c-1b8e-4ce8-819f-b4cf6621b14d"
      },
      "execution_count": 7,
      "outputs": [
        {
          "output_type": "stream",
          "name": "stdout",
          "text": [
            "   Manufacturer    Model     Type\n",
            "0         Acura  Integra    Small\n",
            "20     Chrysler  LeBaron  Compact\n",
            "40        Honda  Prelude   Sporty\n",
            "60      Mercury   Cougar  Midsize\n",
            "80       Subaru   Loyale    Small\n"
          ]
        }
      ]
    },
    {
      "cell_type": "markdown",
      "source": [
        "#Question 6"
      ],
      "metadata": {
        "id": "F8Rx7I-sAx3d"
      }
    },
    {
      "cell_type": "code",
      "source": [
        "import pandas as pd\n",
        "\n",
        "df = pd.read_csv('https://raw.githubusercontent.com/selva86/datasets/master/Cars93_miss.csv')\n",
        "\n",
        "df['Min.Price'].fillna(df['Min.Price'].mean(), inplace=True)\n",
        "df['Max.Price'].fillna(df['Max.Price'].mean(), inplace=True)\n"
      ],
      "metadata": {
        "id": "1QQyyYB8A07Y"
      },
      "execution_count": 8,
      "outputs": []
    },
    {
      "cell_type": "markdown",
      "source": [
        "#Question 7\n"
      ],
      "metadata": {
        "id": "D21Ha_LxA6z_"
      }
    },
    {
      "cell_type": "code",
      "source": [
        "import pandas as pd\n",
        "import numpy as np\n",
        "\n",
        "df = pd.DataFrame(np.random.randint(10, 40, 60).reshape(-1, 4))\n",
        "\n",
        "row_sum_greater_than_100 = df[df.sum(axis=1) > 100]\n",
        "print(\"Rows with sum > 100:\")\n",
        "print(row_sum_greater_than_100)\n"
      ],
      "metadata": {
        "colab": {
          "base_uri": "https://localhost:8080/"
        },
        "id": "2-iVltf6A8Wv",
        "outputId": "ddf3a300-0aca-40a1-8059-278adc511f6c"
      },
      "execution_count": 9,
      "outputs": [
        {
          "output_type": "stream",
          "name": "stdout",
          "text": [
            "Rows with sum > 100:\n",
            "     0   1   2   3\n",
            "1   29  32  38  19\n",
            "3   21  37  35  25\n",
            "6   28  13  36  31\n",
            "7   33  23  36  29\n",
            "8   36  26  27  14\n",
            "11  31  14  35  37\n",
            "13  19  32  32  18\n"
          ]
        }
      ]
    }
  ]
}