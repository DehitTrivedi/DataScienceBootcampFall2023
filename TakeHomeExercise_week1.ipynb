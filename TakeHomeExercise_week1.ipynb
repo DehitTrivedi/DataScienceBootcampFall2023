{
  "nbformat": 4,
  "nbformat_minor": 0,
  "metadata": {
    "colab": {
      "provenance": [],
      "authorship_tag": "ABX9TyMso7+x0jmCQsuhH3uNQ3iO",
      "include_colab_link": true
    },
    "kernelspec": {
      "name": "python3",
      "display_name": "Python 3"
    },
    "language_info": {
      "name": "python"
    }
  },
  "cells": [
    {
      "cell_type": "markdown",
      "metadata": {
        "id": "view-in-github",
        "colab_type": "text"
      },
      "source": [
        "<a href=\"https://colab.research.google.com/github/DehitTrivedi/DataScienceBootcampFall2023/blob/main/TakeHomeExercise_week1.ipynb\" target=\"_parent\"><img src=\"https://colab.research.google.com/assets/colab-badge.svg\" alt=\"Open In Colab\"/></a>"
      ]
    },
    {
      "cell_type": "markdown",
      "source": [
        "#Take home exercise Week 1\n",
        "\n",
        "###by : Dehit Trivedi (dt2412)"
      ],
      "metadata": {
        "id": "Mm_f405eVJ6O"
      }
    },
    {
      "cell_type": "code",
      "source": [
        "\"\"\"\n",
        "Question 1\n",
        "Write a function that takes a word as an argument and returns the number of\n",
        "vowels in the word\n",
        "\"\"\"\n",
        "\n",
        "def get_numvowels(word):\n",
        "  ans = 0\n",
        "  vowel = ('a','e','i','o','u')\n",
        "  word = word.lower()\n",
        "  for i in word:\n",
        "    if i in vowel:\n",
        "      ans += 1\n",
        "\n",
        "  return ans\n",
        "\n",
        "#more efficient code without for loop\n",
        "def count_vowels(word):\n",
        "  vowels = set(\"aeiouAEIOU\")\n",
        "  return len(vowels & set(word))\n"
      ],
      "metadata": {
        "id": "6DsgzeRzVfPk"
      },
      "execution_count": 20,
      "outputs": []
    },
    {
      "cell_type": "code",
      "source": [
        "print(get_numvowels(\"dEhit\"))\n",
        "print(count_vowels(\"dEhit\"))"
      ],
      "metadata": {
        "colab": {
          "base_uri": "https://localhost:8080/"
        },
        "id": "hGbTbfgVVnv6",
        "outputId": "db59d48a-ec2c-48d5-e832-72711a3e9310"
      },
      "execution_count": 21,
      "outputs": [
        {
          "output_type": "stream",
          "name": "stdout",
          "text": [
            "2\n",
            "2\n"
          ]
        }
      ]
    },
    {
      "cell_type": "code",
      "source": [
        "\"\"\"\n",
        "Question 2\n",
        "Iterate through the following list of animals and print each one in all caps.\n",
        "animals=['tiger', 'elephant', 'monkey', 'zebra', 'panther']\n",
        "\"\"\"\n",
        "\n",
        "def printinCAPs(arr):\n",
        "  for i in arr:\n",
        "    print(i.upper())"
      ],
      "metadata": {
        "id": "z_aH5Kf1bl3H"
      },
      "execution_count": 25,
      "outputs": []
    },
    {
      "cell_type": "code",
      "source": [
        "animals=['tiger', 'elephant', 'monkey', 'zebra', 'panther']\n",
        "printinCAPs(animals)"
      ],
      "metadata": {
        "colab": {
          "base_uri": "https://localhost:8080/"
        },
        "id": "ls_KUpC4cJ-5",
        "outputId": "97db0f0c-9698-493c-e61a-61d95ef3f802"
      },
      "execution_count": 26,
      "outputs": [
        {
          "output_type": "stream",
          "name": "stdout",
          "text": [
            "TIGER\n",
            "ELEPHANT\n",
            "MONKEY\n",
            "ZEBRA\n",
            "PANTHER\n"
          ]
        }
      ]
    },
    {
      "cell_type": "code",
      "source": [
        "\"\"\"\n",
        "Qustion 3\n",
        "Iterate from 1 to 15, printing whether the number is odd or even\n",
        "\"\"\"\n",
        "\n",
        "def oddOReven(n):\n",
        "  n=n+1\n",
        "  for i in range(1,n):\n",
        "    if i%2==0:\n",
        "      print('EVEN')\n",
        "    else :\n",
        "      print('ODD')\n"
      ],
      "metadata": {
        "id": "S2-csWZZcjnU"
      },
      "execution_count": 34,
      "outputs": []
    },
    {
      "cell_type": "code",
      "source": [
        "oddOReven(15)"
      ],
      "metadata": {
        "colab": {
          "base_uri": "https://localhost:8080/"
        },
        "id": "MhTax_pneb3x",
        "outputId": "d197b79c-51eb-41c8-cbaf-1b295b8cc66b"
      },
      "execution_count": 36,
      "outputs": [
        {
          "output_type": "stream",
          "name": "stdout",
          "text": [
            "ODD\n",
            "EVEN\n",
            "ODD\n",
            "EVEN\n",
            "ODD\n",
            "EVEN\n",
            "ODD\n",
            "EVEN\n",
            "ODD\n",
            "EVEN\n",
            "ODD\n",
            "EVEN\n",
            "ODD\n",
            "EVEN\n",
            "ODD\n"
          ]
        }
      ]
    },
    {
      "cell_type": "code",
      "source": [
        "\"\"\"\n",
        "Question 4\n",
        "Take two integers as input from user and return the sum\n",
        "\"\"\"\n",
        "\n",
        "def returnsum(x,y):\n",
        "  sum = int(x)+int(y)2\n",
        "  return sum\n",
        "\n",
        "x = input(\"Enter the first number : \")\n",
        "y = input(\"Enter the second number : \")\n",
        "print(\"Sum of two number : \",returnsum(x,y))"
      ],
      "metadata": {
        "colab": {
          "base_uri": "https://localhost:8080/"
        },
        "id": "3NB66EAmieZD",
        "outputId": "d6065e60-110c-4cda-c2fc-e4284dfd3884"
      },
      "execution_count": 41,
      "outputs": [
        {
          "output_type": "stream",
          "name": "stdout",
          "text": [
            "Enter the first number : 2\n",
            "Enter the second number : 2\n",
            "Sum of two number :  4\n"
          ]
        }
      ]
    }
  ]
}